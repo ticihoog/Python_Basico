{
 "cells": [
  {
   "cell_type": "markdown",
   "metadata": {},
   "source": [
    "# Python Básico - P001\n",
    "\n",
    "----------------------------------------------------\n",
    "# Exercício 02:\n",
    "----------------------------------------------------\n",
    "\n",
    "## Operadores aritméticos \n",
    " Em Python, os operadores aritméticos funcionam de forma parecida ao C++.\n",
    "A diferênças são pontuadas com a divisão de inteiros que produz um número de ponto flutuante, \n",
    "e a capacidade de representar inteiros muito grandes sem preocupações com bug's. \n",
    "\n",
    "Aqui estão exemplos:\n",
    "\n",
    "- Operadores aritméticos"
   ]
  },
  {
   "cell_type": "markdown",
   "metadata": {},
   "source": [
    "Operadores aritméticos \n",
    " Em Python, os operadores aritméticos funcionam de forma parecida ao C++.\n",
    "A diferênças são pontuadas com a divisão de inteiros que produz um número de ponto flutuante, \n",
    "e a capacidade de representar inteiros muito grandes sem preocupações com bug's. \n",
    "\n",
    "Aqui estão exemplos:\n",
    "\n",
    "- Operadores aritméticos"
   ]
  },
  {
   "cell_type": "code",
   "execution_count": null,
   "metadata": {},
   "outputs": [],
   "source": [
    "a = 10\n",
    "b = 3\n",
    "\n",
    "soma = a + b\n",
    "subtracao = a - b\n",
    "multiplicacao = a * b\n",
    "divisao = a / b  # Resultado é float\n",
    "divisao_inteira = a // b\n",
    "resto = a % b\n",
    "potencia = a ** b\n",
    "\n",
    "print(soma)  # 13\n",
    "print(subtracao)  # 7\n",
    "print(multiplicacao)  # 30\n",
    "print(divisao)  # 3.3333333333333335\n",
    "print(divisao_inteira)  # 3\n",
    "print(resto)  # 1\n",
    "print(potencia)  # 1000"
   ]
  },
  {
   "cell_type": "markdown",
   "metadata": {},
   "source": [
    "- Operadores compostos"
   ]
  },
  {
   "cell_type": "code",
   "execution_count": null,
   "metadata": {},
   "outputs": [],
   "source": [
    "c = 5\n",
    "c += 2\n",
    "print(c)  # 7"
   ]
  },
  {
   "cell_type": "markdown",
   "metadata": {},
   "source": [
    "Em Python podemos representar números inteiros muito grande sem apresentar problemas (como em C++)."
   ]
  },
  {
   "cell_type": "code",
   "execution_count": null,
   "metadata": {},
   "outputs": [],
   "source": [
    "import math\n",
    "\n",
    "fatorial_30 = math.factorial(30)\n",
    "print(fatorial_30)"
   ]
  },
  {
   "cell_type": "markdown",
   "metadata": {},
   "source": [
    "Em Python as variáveis numéricas são imutáveis - uma vez criadas, elas não podem ser modificadas. \n",
    "\n",
    "Como no Exemplo abaixo:"
   ]
  },
  {
   "cell_type": "code",
   "execution_count": null,
   "metadata": {},
   "outputs": [],
   "source": [
    "a = 5\n",
    "b = a  # 'b' agora tem o mesmo valor que 'a'\n",
    "a = 10  # 'a' recebe um novo valor, 'b' não é afetado\n",
    "print(b)  # Ainda será 5, porque 'b' manteve seu valor original"
   ]
  },
  {
   "cell_type": "markdown",
   "metadata": {},
   "source": [
    "# Métodos Disponíveis para Variáveis Inteiras:\n",
    "Variáveis inteiras em Python pertencem à classe int,\n",
    "Elas têm métodos associados a elas. \n",
    "\n",
    "Seguem alguns exemplos de métodos disponíveis:"
   ]
  },
  {
   "cell_type": "code",
   "execution_count": null,
   "metadata": {},
   "outputs": [],
   "source": [
    "x = 42\n",
    "\n",
    "# Converter para string\n",
    "str_x = str(x)\n",
    "print(str_x)  # '42'\n",
    "\n",
    "# Verificar se é par\n",
    "is_even = x % 2 == 0\n",
    "print(is_even)  # True\n",
    "\n",
    "# Calcular o valor absoluto\n",
    "abs_x = abs(x)\n",
    "print(abs_x)  # 42\n",
    "\n",
    "# Obter o tamanho em bytes\n",
    "size_in_bytes = x.bit_length() // 8\n",
    "print(size_in_bytes)  # 1 (para 42)\n",
    "\n",
    "# Método para converter para hexadecimal\n",
    "hex_x = hex(x)\n",
    "print(hex_x)  # '0x2a'\n",
    "\n",
    "# Método para converter para binário\n",
    "bin_x = bin(x)\n",
    "print(bin_x)  # '0b101010'\n",
    "\n",
    "# Método para converter para octal\n",
    "oct_x = oct(x)\n",
    "print(oct_x)  # '0o52'\n",
    "\n",
    "# Método para verificar se o número é ímpar\n",
    "is_odd = x.__bool__()  # Retorna True para números ímpares e False para números pares\n",
    "print(is_odd)  # True\n",
    "\n",
    "# Método para encontrar o máximo com outro número\n",
    "y = 30\n",
    "max_value = x.__max__(y)\n",
    "print(max_value)  # 42\n",
    "\n",
    "# Método para encontrar o mínimo com outro número\n",
    "min_value = x.__min__(y)\n",
    "print(min_value)  # 30\n",
    "\n",
    "# Método para arredondar o número para cima\n",
    "rounded_up = x.__ceil__()\n",
    "print(rounded_up)  # 42\n",
    "\n",
    "# Método para arredondar o número para baixo\n",
    "rounded_down = x.__floor__()\n",
    "print(rounded_down)  # 42\n",
    "\n",
    "# Método para verificar se o número é negativo\n",
    "is_negative = x.__neg__()  # Retorna x se for positivo, caso contrário, -x\n",
    "print(is_negative)  # -42\n"
   ]
  },
  {
   "cell_type": "markdown",
   "metadata": {},
   "source": [
    "# Diferenças em Relação a C/C++:\n",
    "\n",
    "    Em Python, não há necessidade de declarar o tipo de variável antes de usá-la. A inferência de tipo é feita automaticamente.\n",
    "    Python suporta precisão arbitrária para inteiros, enquanto em C/C++, o tamanho dos inteiros é limitado pelo tipo de dado.\n",
    "    Python suporta divisão de inteiros resultando em ponto flutuante por padrão (/), enquanto em C/C++ é necessário usar casting ou converter pelo menos um dos operandos para ponto flutuante.\n",
    "\n",
    "Essas são algumas das diferenças notáveis nos operadores aritméticos entre Python e C/C++. Python oferece maior flexibilidade e simplicidade em comparação com as declarações de tipo estritas encontradas em C/C++.\n",
    "\n",
    "-----------------------------------------------"
   ]
  },
  {
   "cell_type": "markdown",
   "metadata": {},
   "source": [
    "----------------------------------------------------\n",
    "# Exercício 03:\n",
    "----------------------------------------------------\n",
    "\n",
    "Ao executar o programa a seguir, ele irá imprimir os caracteres numéricos ('0' a '9'), seus códigos numéricos, códigos em octal e códigos em hexadecimal. \n",
    "Além disso, o programa permitirá que o usuário insira um caractere e imprima suas informações da mesma forma.\n",
    "\n",
    "Por fim, incluí exemplos de caracteres especiais ('ç' e 'ã') para demonstrar como o programa pode lidar com caracteres especiais em Python. \n",
    "Poderemos observar que Python 3 utiliza Unicode por padrão, o que facilita o manuseio de caracteres especiais."
   ]
  },
  {
   "cell_type": "code",
   "execution_count": null,
   "metadata": {},
   "outputs": [],
   "source": [
    "# Função para imprimir caractere e código numérico\n",
    "def imprimir_caractere_e_codigo(caractere):\n",
    "    codigo_decimal = ord(caractere)\n",
    "    codigo_octal = oct(codigo_decimal)\n",
    "    codigo_hexadecimal = hex(codigo_decimal)\n",
    "    \n",
    "    print(f\"'{caractere}' - Decimal: {codigo_decimal}, Octal: {codigo_octal}, Hexadecimal: {codigo_hexadecimal}\")\n",
    "\n",
    "# Imprimir caracteres numéricos e seus códigos\n",
    "print(\"Caracteres numéricos:\")\n",
    "for i in range(10):\n",
    "    imprimir_caractere_e_codigo(str(i))\n",
    "\n",
    "# Ler um caractere da entrada padrão e imprimir seus códigos\n",
    "caractere_usuario = input(\"Digite um caractere: \")\n",
    "imprimir_caractere_e_codigo(caractere_usuario)\n",
    "\n",
    "# Exemplo com caracteres especiais\n",
    "caractere_especial1 = 'ç'\n",
    "caractere_especial2 = 'ã'\n",
    "\n",
    "imprimir_caractere_e_codigo(caractere_especial1)\n",
    "imprimir_caractere_e_codigo(caractere_especial2)\n"
   ]
  },
  {
   "cell_type": "markdown",
   "metadata": {},
   "source": [
    "Explicações:\n",
    "\n",
    "    ord(caractere): Retorna o valor ASCII (ou Unicode) do caractere fornecido.\n",
    "    oct(codigo_decimal): Converte o código decimal para octal.\n",
    "    hex(codigo_decimal): Converte o código decimal para hexadecimal."
   ]
  },
  {
   "cell_type": "markdown",
   "metadata": {},
   "source": [
    "----------------------------------------------------\n",
    "# Exercício 04:\n",
    "----------------------------------------------------\n",
    "\n",
    "O exemplo a seguir utiliza funcionalidades básicas de strings em Python para realizar as operações solicitadas no exercício mencionado:"
   ]
  },
  {
   "cell_type": "code",
   "execution_count": null,
   "metadata": {},
   "outputs": [],
   "source": [
    "# Declare uma variável nome atribuindo a ela seu nome completo\n",
    "nome_completo = \"João da Silva\"\n",
    "\n",
    "# Separe em duas variáveis novas seu nome do seu sobrenome\n",
    "# Utilizaremos a função split para separar o nome e o sobrenome\n",
    "nome_e_sobrenome = nome_completo.split()\n",
    "nome = nome_e_sobrenome[0]\n",
    "sobrenome = nome_e_sobrenome[-1]\n",
    "\n",
    "# Verifique qual das duas novas variáveis antecede a outra na ordem alfabética\n",
    "if nome < sobrenome:\n",
    "    ordem_alfabetica = f\"{nome} antecede {sobrenome}\"\n",
    "elif nome > sobrenome:\n",
    "    ordem_alfabetica = f\"{sobrenome} antecede {nome}\"\n",
    "else:\n",
    "    ordem_alfabetica = f\"{nome} e {sobrenome} são iguais na ordem alfabética\"\n",
    "\n",
    "# Verifique a quantidade de caracteres de cada uma das novas variáveis\n",
    "tamanho_nome = len(nome)\n",
    "tamanho_sobrenome = len(sobrenome)\n",
    "\n",
    "# Verifique se seu nome é uma palíndromo\n",
    "e_palindromo = nome.lower() == nome.lower()[::-1]\n",
    "\n",
    "# Imprima os resultados\n",
    "print(f\"Nome completo: {nome_completo}\")\n",
    "print(f\"Nome: {nome}\")\n",
    "print(f\"Sobrenome: {sobrenome}\")\n",
    "print(f\"Ordem alfabética: {ordem_alfabetica}\")\n",
    "print(f\"Tamanho do nome: {tamanho_nome} caracteres\")\n",
    "print(f\"Tamanho do sobrenome: {tamanho_sobrenome} caracteres\")\n",
    "print(f\"{nome} é um palíndromo: {e_palindromo}\")\n"
   ]
  },
  {
   "cell_type": "markdown",
   "metadata": {},
   "source": [
    "Explicações:\n",
    "\n",
    "    split(): Divide a string em palavras e retorna uma lista.\n",
    "    len(): Retorna o comprimento (número de caracteres) de uma string.\n",
    "    [::-1]: Inverte a string. Isso é usado para verificar se a string é um palíndromo."
   ]
  },
  {
   "cell_type": "markdown",
   "metadata": {},
   "source": [
    "----------------------------------------------------\n",
    "# Exercício 05:\n",
    "----------------------------------------------------\n",
    "\n",
    "Os operadores aritméticos e aritméticos compostos em Python funcionam da mesma forma que em outros tipos numéricos. \n",
    "\n",
    "Seguem alguns exemplos dos muitos métodos disponíveis para variáveis de ponto flutuante: \n"
   ]
  },
  {
   "cell_type": "code",
   "execution_count": null,
   "metadata": {},
   "outputs": [],
   "source": [
    "# Operadores Aritméticos\n",
    "a = 5.0\n",
    "b = 2.0\n",
    "\n",
    "soma = a + b\n",
    "subtracao = a - b\n",
    "multiplicacao = a * b\n",
    "divisao = a / b\n",
    "\n",
    "print(f\"Soma: {soma}\")\n",
    "print(f\"Subtração: {subtracao}\")\n",
    "print(f\"Multiplicação: {multiplicacao}\")\n",
    "print(f\"Divisão: {divisao}\")\n",
    "\n",
    "# Operadores Aritméticos Compostos\n",
    "a += 1\n",
    "b *= 2\n",
    "\n",
    "print(f\"Valor de 'a' após incremento: {a}\")\n",
    "print(f\"Valor de 'b' após multiplicação: {b}\")\n"
   ]
  },
  {
   "cell_type": "markdown",
   "metadata": {},
   "source": [
    "Maior e Menor Potência de 2 Representável com Variáveis de Ponto Flutuante:"
   ]
  },
  {
   "cell_type": "code",
   "execution_count": null,
   "metadata": {},
   "outputs": [],
   "source": [
    "# Maior Potência de 2\n",
    "maior_potencia = 2.0 ** 1023\n",
    "print(f\"Maior Potência de 2 representável: {maior_potencia}\")\n",
    "\n",
    "# Menor Potência de 2\n",
    "menor_potencia = 2.0 ** -1022\n",
    "print(f\"Menor Potência de 2 representável: {menor_potencia}\")\n"
   ]
  },
  {
   "cell_type": "markdown",
   "metadata": {},
   "source": [
    "Variáveis Numéricas são Imutáveis:\n",
    "\n",
    "Variáveis numéricas em Python são imutáveis. Isso significa que, ao atribuir um novo valor a uma variável, você cria uma nova referência na memória. O valor original não é modificado. "
   ]
  },
  {
   "cell_type": "code",
   "execution_count": null,
   "metadata": {},
   "outputs": [],
   "source": [
    "x = 10.0\n",
    "y = x\n",
    "x = 20.0\n",
    "\n",
    "print(f\"Valor de x: {x}\")\n",
    "print(f\"Valor de y (não afetado pela mudança em x): {y}\")\n"
   ]
  },
  {
   "cell_type": "markdown",
   "metadata": {},
   "source": [
    "Métodos Disponíveis para Variáveis de Ponto Flutuante:\n",
    "\n",
    "As variáveis de ponto flutuante em Python têm alguns métodos disponíveis. Alguns dos métodos mais comuns incluem:\n",
    "\n",
    "    as_integer_ratio(): Retorna a representação como uma fração.\n",
    "    is_integer(): Retorna True se o valor for um inteiro, caso contrário, retorna False.\n",
    "    hex(): Retorna uma string representando a notação hexadecimal do número."
   ]
  },
  {
   "cell_type": "code",
   "execution_count": null,
   "metadata": {},
   "outputs": [],
   "source": [
    "numero = 3.14\n",
    "\n",
    "fracao = numero.as_integer_ratio()\n",
    "inteiro = numero.is_integer()\n",
    "hexadecimal = numero.hex()\n",
    "\n",
    "print(f\"Representação como fração: {fracao}\")\n",
    "print(f\"É um número inteiro: {inteiro}\")\n",
    "print(f\"Notação hexadecimal: {hexadecimal}\")\n"
   ]
  },
  {
   "cell_type": "markdown",
   "metadata": {},
   "source": [
    "----------------------------------------------------\n",
    "# Exercício 06:\n",
    "----------------------------------------------------"
   ]
  }
 ],
 "metadata": {
  "kernelspec": {
   "display_name": "Python 3",
   "language": "python",
   "name": "python3"
  },
  "language_info": {
   "name": "python",
   "version": "3.10.12"
  }
 },
 "nbformat": 4,
 "nbformat_minor": 2
}
